{
 "cells": [
  {
   "cell_type": "code",
   "execution_count": 7,
   "metadata": {},
   "outputs": [],
   "source": [
    "#!pip install psycopg2\n",
    "#!pip install pysolr"
   ]
  },
  {
   "cell_type": "code",
   "execution_count": 101,
   "metadata": {},
   "outputs": [],
   "source": [
    "import psycopg2\n",
    "import pysolr\n",
    "from datetime import datetime"
   ]
  },
  {
   "cell_type": "markdown",
   "metadata": {},
   "source": [
    "# PART 1: Data Extraction and Indexing\n",
    "To create a new core in solr, run: ./bin/solr create -c test -d path_to/conf, please change the path to the directory of the conf folder, for example mine is: ./bin/solr create -c test -d ~/Documents/uml/digital_health/conf.\n",
    "The files in conf are based on the conf folder provided in the course github page, we changed the schema.xml to match our indexing schema."
   ]
  },
  {
   "cell_type": "code",
   "execution_count": null,
   "metadata": {},
   "outputs": [],
   "source": [
    "conn = psycopg2.connect(host = \"172.16.34.1\", port = \"5432\", user = \"mimic_demo\", password = \"mimic_demo\", database = \"mimic\")\n",
    "cur = conn.cursor()\n",
    "cur.execute('SET search_path to mimciii')\n",
    "#before connecting to the solr, please create a new core with configuration files in conf folder\n",
    "solr = pysolr.Solr('http://localhost:8983/solr/test')"
   ]
  },
  {
   "cell_type": "code",
   "execution_count": 27,
   "metadata": {},
   "outputs": [],
   "source": [
    "#This is the query to extract the required data in 1a.\n",
    "query = \"\"\"\n",
    "SELECT DISTINCT ne.row_id, ne.chartdate, ne.text, ad.hospital_expire_flag, d.diagnosis\n",
    "FROM mimiciii.noteevents ne\n",
    "LEFT JOIN (\n",
    "  SELECT hadm_id, array_agg(icd9_code) AS diagnosis\n",
    "  FROM mimiciii.diagnoses_icd\n",
    "  GROUP BY hadm_id\n",
    ") d ON ne.hadm_id = d.hadm_id\n",
    "LEFT JOIN mimiciii.admissions ad ON ne.hadm_id = ad.hadm_id \n",
    "WHERE ne.category = 'Discharge summary';\n",
    "\"\"\""
   ]
  },
  {
   "cell_type": "code",
   "execution_count": null,
   "metadata": {},
   "outputs": [],
   "source": []
  },
  {
   "cell_type": "code",
   "execution_count": 28,
   "metadata": {},
   "outputs": [
    {
     "data": {
      "text/plain": [
       "'<?xml version=\"1.0\" encoding=\"UTF-8\"?>\\n<response>\\n\\n<lst name=\"responseHeader\">\\n  <int name=\"status\">0</int>\\n  <int name=\"QTime\">2859</int>\\n</lst>\\n</response>\\n'"
      ]
     },
     "execution_count": 28,
     "metadata": {},
     "output_type": "execute_result"
    }
   ],
   "source": [
    "cur.execute(query)\n",
    "for row in cur.fetchall():\n",
    "    # Extract the fields from the row\n",
    "    note_id, chartdate, text, expire_flag, diagnoses = row\n",
    "    doc = {\n",
    "        'id': str(note_id),\n",
    "        'chartdate': chartdate.strftime('%Y-%m-%dT%H:%M:%SZ'),\n",
    "        'text': text,\n",
    "        'expire_flag': expire_flag,\n",
    "        'diagnoses': diagnoses   #all the ICD9 codes\n",
    "    }\n",
    "    #indexing \n",
    "    solr.add([doc])\n",
    "solr.commit()\n",
    "print(\"Finished indexing!\")\n",
    "conn.close()"
   ]
  },
  {
   "cell_type": "markdown",
   "metadata": {},
   "source": [
    "# Part 2: A Command line search system"
   ]
  },
  {
   "cell_type": "code",
   "execution_count": 68,
   "metadata": {},
   "outputs": [],
   "source": [
    "import re\n",
    "#This function is used to check the date format\n",
    "def check_date_format(date_string):\n",
    "    date_format = re.compile(r'\\d{4}-\\d{2}-\\d{2}')\n",
    "    return True if date_format.match(date_string) else False\n",
    "def get_date_range():\n",
    "    while True:\n",
    "        date_range = input(\"Enter date range (e.g. 2022-01-01 to 2022-12-31): \")\n",
    "        try:\n",
    "            start_date, end_date = date_range.split(' to ')\n",
    "        except ValueError:\n",
    "            print(\"Invalid date range format. Please enter again.\")\n",
    "            continue\n",
    "        if check_date_format(start_date) and check_date_format(end_date):\n",
    "            start_date = datetime.strptime(start_date, '%Y-%m-%d')\n",
    "            end_date = datetime.strptime(end_date, '%Y-%m-%d')\n",
    "            #format the dates as strings in the ISO format expected by Solr\n",
    "            start_date_iso = start_date.isoformat() + 'Z'\n",
    "            end_date_iso = end_date.isoformat() + 'Z'\n",
    "            #construct the Solr date query\n",
    "            return start_date_iso, end_date_iso\n",
    "        else:\n",
    "            print(\"Invalid date range format. Please enter again.\")\n",
    "def get_expiration_flag():\n",
    "    while True: \n",
    "        flag = input(\"Enter hospital expiration flag(0 or 1): \")\n",
    "        if flag == \"0\" or flag == \"1\":\n",
    "            return flag\n",
    "        else:\n",
    "            print(\"Invalid format. Please enter again(0 or 1).\")\n",
    "def get_icd9_codes():\n",
    "    codes = input(\"Enter ICD9 codes: \")\n",
    "    return codes.replace(\".\", \"\")\n",
    "def get_text():\n",
    "    text = input(\"Enter a word in note text: \")\n",
    "    return text"
   ]
  },
  {
   "cell_type": "code",
   "execution_count": 96,
   "metadata": {},
   "outputs": [],
   "source": [
    "import mysql.connector\n",
    "def get_synonyms(text):\n",
    "    synonyms = []\n",
    "    query_syn = f\"\"\"\n",
    "    select distinct m2.STR\n",
    "    from MRCONSO as m1\n",
    "    join MRREL on m1.CUI = MRREL.CUI1\n",
    "    join MRCONSO as m2 on MRREL.CUI2 = m2.CUI\n",
    "    where m1.SAB = 'CHV'\n",
    "    and m1.LAT = 'ENG'\n",
    "    and m2.SAB = 'CHV'\n",
    "    and m2.LAT = 'ENG'\n",
    "    and MRREL.REL = 'SY'\n",
    "    and m1.STR = '{text}' limit 30;\"\"\"\n",
    "    cnx = mysql.connector.connect(host='172.16.34.1', port='3307',\n",
    "                            user='umls', password='umls', database='umls2022')\n",
    "    cur = cnx.cursor()\n",
    "    cur.execute(query_syn)\n",
    "    for row in cur.fetchall():\n",
    "        synonyms.append(row[0])\n",
    "    cnx.close()\n",
    "    return synonyms\n",
    "#synonyms = get_synonyms('lung cancer')\n"
   ]
  },
  {
   "cell_type": "code",
   "execution_count": null,
   "metadata": {},
   "outputs": [],
   "source": []
  },
  {
   "cell_type": "code",
   "execution_count": 113,
   "metadata": {},
   "outputs": [],
   "source": [
    "def query_parser():\n",
    "    queries = []\n",
    "    sa_query = []\n",
    "    da = input('Type yes if you want to enter a date range(e.g. 2022-01-01 to 2022-12-31) in your search or type anthing else to proceed ')\n",
    "    if da.lower() == 'yes':\n",
    "        start_date, end_date = get_date_range()\n",
    "        date_query = 'chartdate:[{} TO {}]'.format(start_date, end_date)\n",
    "        queries.append(date_query)\n",
    "    else:\n",
    "        date_query = None\n",
    "    fa = input('Type yes if you want to enter a hospital expiration flag in your search or type anthing else to proceed: ')\n",
    "    if fa.lower() == 'yes':\n",
    "        flag = get_expiration_flag()\n",
    "        flag_query = 'expire_flag:'+flag\n",
    "        queries.append(flag_query)\n",
    "    else:\n",
    "        flag_query = None\n",
    "    ca = input('Type yes if you want to enter a ICD9 code in your search or type anthing else to proceed: ')\n",
    "    if ca.lower() == 'yes':\n",
    "        ca = get_icd9_codes()\n",
    "        ca_query = 'diagnoses:'+ca\n",
    "        queries.append(ca_query)\n",
    "    else:\n",
    "        flag_query = None\n",
    "    ta = input('Type yes if you want to enter a word in note text in your search or type anthing else to proceed: ')\n",
    "    if ta.lower() == 'yes':\n",
    "        text = get_text()\n",
    "        text_query = f'text:\"{text}\"'\n",
    "        queries.append(text_query)\n",
    "        sa = input('Type yes if you want to find the synonyms of the text in your search or type anthing else to skip: ')\n",
    "        if sa.lower() == 'yes':\n",
    "            sa_queries = []\n",
    "            synonyms = get_synonyms(text)\n",
    "            print(f\"The sysnonyms for {text} is:\", synonyms)\n",
    "            print(\"******************************************\")\n",
    "            for s in synonyms:\n",
    "                sa_q = f'text:\"{s}\"'\n",
    "                sa_queries.append(sa_q)\n",
    "            sa_query = ' OR '.join(s for s in sa_queries)\n",
    "    else:\n",
    "        flag_query = None\n",
    "    if queries !=[]:\n",
    "        total_query = ' AND '.join(q for q in queries)\n",
    "        if sa_query != []:\n",
    "            total_query = total_query + ' OR ' + sa_query \n",
    "    else:\n",
    "        total_query = None\n",
    "    return total_query\n",
    "\n",
    "\n",
    "def search_query():\n",
    "    query_for_search = query_parser()\n",
    "    while query_for_search == None:\n",
    "        print(\"Missing query conditions. Please enter at least one query condition.\")\n",
    "        print(\"******************************************\")\n",
    "        query_for_search = query_parser()\n",
    "    results = solr.search(query_for_search, fl='id', rows=20)\n",
    "    ids = [res['id'] for res in results]\n",
    "    print(f'Top 20 IDs matching \"{query_for_search}\":')\n",
    "    for i in ids:\n",
    "        print(i)   \n",
    "    print(\"******************************************\")\n",
    "    total_doc_count = solr.search(query_for_search, rows=0)\n",
    "    num_matches = total_doc_count.hits\n",
    "    print(f'Total number of matching documents: {num_matches}')\n",
    "\n"
   ]
  },
  {
   "cell_type": "code",
   "execution_count": null,
   "metadata": {},
   "outputs": [
    {
     "name": "stdout",
     "output_type": "stream",
     "text": [
      "Type yes if you want to enter a date range(e.g. 2022-01-01 to 2022-12-31) in your search or type anthing else to proceed \n",
      "Type yes if you want to enter a hospital expiration flag in your search or type anthing else to proceed: \n",
      "Type yes if you want to enter a ICD9 code in your search or type anthing else to proceed: \n",
      "Type yes if you want to enter a word in note text in your search or type anthing else to proceed: yes\n",
      "Enter a word in note text: brain cancer\n",
      "Type yes if you want to find the synonyms of the text in your search or type anthing else to skip: \n",
      "Top 20 IDs matching \"text:\"brain cancer\"\":\n",
      "18463\n",
      "16058\n",
      "23397\n",
      "43979\n",
      "12030\n",
      "3253\n",
      "8412\n",
      "7728\n",
      "12319\n",
      "14352\n",
      "26653\n",
      "46678\n",
      "41557\n",
      "49766\n",
      "46804\n",
      "11822\n",
      "22272\n",
      "35094\n",
      "42633\n",
      "15401\n",
      "******************************************\n",
      "Total number of matching documents: 137\n",
      "Type exit to finish searching or enter anything else to start a new search: \n",
      "******************************************\n",
      "Type yes if you want to enter a date range(e.g. 2022-01-01 to 2022-12-31) in your search or type anthing else to proceed \n",
      "Type yes if you want to enter a hospital expiration flag in your search or type anthing else to proceed: \n",
      "Type yes if you want to enter a ICD9 code in your search or type anthing else to proceed: \n",
      "Type yes if you want to enter a word in note text in your search or type anthing else to proceed: yes\n",
      "Enter a word in note text: brain cancer\n",
      "Type yes if you want to find the synonyms of the text in your search or type anthing else to skip: yes\n",
      "The sysnonyms for brain cancer is: ['brain malignant tumors', 'malignant brain tumor', 'brain cancer', 'brain ca', 'ca brain', 'cancer of the brain', 'brain cancers', 'malignant neoplasm of brain', 'cancer of brain']\n",
      "******************************************\n",
      "Top 20 IDs matching \"text:\"brain cancer\" OR text:\"brain malignant tumors\" OR text:\"malignant brain tumor\" OR text:\"brain cancer\" OR text:\"brain ca\" OR text:\"ca brain\" OR text:\"cancer of the brain\" OR text:\"brain cancers\" OR text:\"malignant neoplasm of brain\" OR text:\"cancer of brain\"\":\n",
      "18463\n",
      "47722\n",
      "47752\n",
      "47753\n",
      "16058\n",
      "47723\n",
      "23397\n",
      "43979\n",
      "51702\n",
      "12030\n",
      "35304\n",
      "37283\n",
      "3253\n",
      "8412\n",
      "7728\n",
      "12319\n",
      "14352\n",
      "26653\n",
      "46678\n",
      "41557\n",
      "******************************************\n",
      "Total number of matching documents: 189\n"
     ]
    }
   ],
   "source": [
    "while True:\n",
    "    search_query()\n",
    "    exit = input('Type exit to finish searching or enter anything else to start a new search: ')\n",
    "    print(\"******************************************\")\n",
    "    if exit.lower()=='exit':\n",
    "        break"
   ]
  },
  {
   "cell_type": "code",
   "execution_count": null,
   "metadata": {},
   "outputs": [],
   "source": []
  },
  {
   "cell_type": "code",
   "execution_count": null,
   "metadata": {},
   "outputs": [],
   "source": [
    "\n"
   ]
  },
  {
   "cell_type": "code",
   "execution_count": null,
   "metadata": {
    "scrolled": true
   },
   "outputs": [],
   "source": []
  },
  {
   "cell_type": "code",
   "execution_count": null,
   "metadata": {},
   "outputs": [],
   "source": []
  },
  {
   "cell_type": "code",
   "execution_count": null,
   "metadata": {},
   "outputs": [],
   "source": []
  }
 ],
 "metadata": {
  "kernelspec": {
   "display_name": "Python 3",
   "language": "python",
   "name": "python3"
  },
  "language_info": {
   "codemirror_mode": {
    "name": "ipython",
    "version": 3
   },
   "file_extension": ".py",
   "mimetype": "text/x-python",
   "name": "python",
   "nbconvert_exporter": "python",
   "pygments_lexer": "ipython3",
   "version": "3.7.4"
  }
 },
 "nbformat": 4,
 "nbformat_minor": 2
}
